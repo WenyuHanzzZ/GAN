{
 "cells": [
  {
   "cell_type": "code",
   "execution_count": 92,
   "metadata": {},
   "outputs": [
    {
     "name": "stdout",
     "output_type": "stream",
     "text": [
      "Extracting MNIST_data/train-images-idx3-ubyte.gz\n",
      "Extracting MNIST_data/train-labels-idx1-ubyte.gz\n",
      "Extracting MNIST_data/t10k-images-idx3-ubyte.gz\n",
      "Extracting MNIST_data/t10k-labels-idx1-ubyte.gz\n"
     ]
    }
   ],
   "source": [
    "import tensorflow as tf \n",
    "import numpy as np\n",
    "from tensorflow.examples.tutorials.mnist import input_data\n",
    "mnist = input_data.read_data_sets('MNIST_data')"
   ]
  },
  {
   "cell_type": "code",
   "execution_count": 20,
   "metadata": {},
   "outputs": [],
   "source": [
    "def generator(z, Output_dimension, n_units, reuse, alpha):\n",
    "    with tf.variable_scope('generator', reuse=reuse):\n",
    "        # creat a variable scope to save the variable under the 'generator' variable list  \n",
    "        H_layer1=tf.layers.dense(z, n_units, activation=None,name='G_dense_1')\n",
    "        # hidden layer: input is latent variable, number of units= 128\n",
    "        H_layer1=tf.maximum(H_layer1, alpha*H_layer1)\n",
    "        # this maximum combine with dense layer can realize the Leaky ReLU \n",
    "        # alpha is a parameter which is less than 1\n",
    "        logits=tf.layers.dense(H_layer1, Output_dimension, activation=None,name='G_dense_2')\n",
    "        # logits layer:Output dimension=724 \n",
    "        Out=tf.nn.tanh(logits)\n",
    "        # output is rescaled into between -1 to 1 \n",
    "        return Out, logits"
   ]
  },
  {
   "cell_type": "code",
   "execution_count": 94,
   "metadata": {},
   "outputs": [],
   "source": [
    "def discriminator(x, n_units, reuse, alpha):\n",
    "    with tf.variable_scope('discriminaor',reuse=reuse):\n",
    "        # creat a variable scope to save the variable under the 'discriminator' variable list\n",
    "        H_layer1=tf.layers.dense(x,n_units,activation=None,name='D_dense_1')\n",
    "        # Hidden layer: input is the images to be discriminated, number of units=128\n",
    "        H_layer1=tf.maximum(H_layer1,alpha*H_layer1)\n",
    "        # smae as generator: creat the operation as Leaky ReLU\n",
    "        logits=tf.layers.dense(H_layer1,1,activation=None,name='D_dense_2')\n",
    "        # logits layer: output dimension is 1\n",
    "        Out=tf.nn.sigmoid(logits)\n",
    "        # output value: when it is close to 1, it will be treated as the real image, vice versa.\n",
    "        return Out, logits\n",
    "    "
   ]
  },
  {
   "cell_type": "code",
   "execution_count": 128,
   "metadata": {},
   "outputs": [],
   "source": [
    "tf.reset_default_graph()# reset the default graph \n",
    "z=tf.placeholder(tf.float32,(None,100),name='z')\n",
    "# creat placeholder for input latent variable z, dimension=[batch size, 100]\n",
    "real_image=tf.placeholder(tf.float32,(None,724),name='real_image')\n",
    "# creat placeholder for the real trainging data, dimension= [batch size, 724] "
   ]
  },
  {
   "cell_type": "code",
   "execution_count": 129,
   "metadata": {},
   "outputs": [],
   "source": [
    "# initial input parameter set here\n",
    "Output_dimension=724\n",
    "n_units=128\n",
    "alpha=0.01\n",
    "smooth=0.1\n"
   ]
  },
  {
   "cell_type": "code",
   "execution_count": 130,
   "metadata": {},
   "outputs": [],
   "source": [
    "# creat generator network \n",
    "g_out,g_logits=generator(z,Output_dimension,n_units,False,alpha)\n",
    "# creat discriminator network\n",
    "d_out_real,d_logits_real=discriminator(real_image,n_units,False,alpha)\n",
    "d_out_fake,d_logits_fake=discriminator(g_out,n_units,True,alpha)"
   ]
  },
  {
   "cell_type": "code",
   "execution_count": 142,
   "metadata": {},
   "outputs": [],
   "source": [
    "# loss funtion goes here \n",
    "# firstly label the real image from the training data by 1 and fake image from the generetor by 0\n",
    "# In order toreduce overfitting, use the label smoothing method here: it prevents a network\n",
    "#from assigning full probability to each training example and maintains a reasonable ratio between\n",
    "# the logits of the incorrect classes. \n",
    "#And from the experiment result of this paper smooth=0.1 always perform well\n",
    "real_label=tf.ones_like(d_logits_real)*(1-smooth)\n",
    "fake_label=tf.zeros_like(d_logits_fake)\n",
    "# discriminator loss funtion \n",
    "d_loss_real=tf.nn.sigmoid_cross_entropy_with_logits(labels=real_label,logits=d_logits_real)\n",
    "d_loss_fake=tf.nn.sigmoid_cross_entropy_with_logits(labels=fake_label,logits=d_logits_fake)\n",
    "# here uing the sigmoid_cross_entropy, causing the label is between 0 to 1.\n",
    "# discriminator loss funtion is that training the discriminator to assign the right label to real\n",
    "# image 1 and to fake image 0 as precisely as possible\n",
    "d_loss=tf.reduce_mean(d_loss_real+d_loss_fake)# total loss is the summation of both two parts\n",
    "g_loss=tf.reduce_mean(\n",
    "    tf.nn.sigmoid_cross_entropy_with_logits(labels=tf.ones_like(d_logits_fake),\n",
    "                                                              logits=d_logits_fake))\n",
    "# generator loss funtion is that training the generator to generator fake images that are more like \n",
    "# real ones, that is the labels are close to 1."
   ]
  },
  {
   "cell_type": "code",
   "execution_count": null,
   "metadata": {},
   "outputs": [],
   "source": []
  },
  {
   "cell_type": "code",
   "execution_count": null,
   "metadata": {},
   "outputs": [],
   "source": []
  },
  {
   "cell_type": "code",
   "execution_count": null,
   "metadata": {},
   "outputs": [],
   "source": []
  },
  {
   "cell_type": "code",
   "execution_count": null,
   "metadata": {},
   "outputs": [],
   "source": []
  },
  {
   "cell_type": "code",
   "execution_count": null,
   "metadata": {},
   "outputs": [],
   "source": []
  },
  {
   "cell_type": "code",
   "execution_count": 140,
   "metadata": {},
   "outputs": [],
   "source": [
    "with tf.Session() as sess:\n",
    "    sess.run(tf.initialize_all_variables())\n",
    "    Z= np.random.uniform(-1, 1, size=(16, 100))\n",
    "    result=sess.run([g_loss],feed_dict={z:Z})\n",
    "    "
   ]
  },
  {
   "cell_type": "code",
   "execution_count": 141,
   "metadata": {},
   "outputs": [
    {
     "data": {
      "text/plain": [
       "[0.8247317]"
      ]
     },
     "execution_count": 141,
     "metadata": {},
     "output_type": "execute_result"
    }
   ],
   "source": []
  },
  {
   "cell_type": "code",
   "execution_count": null,
   "metadata": {},
   "outputs": [],
   "source": []
  },
  {
   "cell_type": "code",
   "execution_count": null,
   "metadata": {},
   "outputs": [],
   "source": []
  },
  {
   "cell_type": "code",
   "execution_count": null,
   "metadata": {},
   "outputs": [],
   "source": []
  }
 ],
 "metadata": {
  "kernelspec": {
   "display_name": "Python 3",
   "language": "python",
   "name": "python3"
  },
  "language_info": {
   "codemirror_mode": {
    "name": "ipython",
    "version": 3
   },
   "file_extension": ".py",
   "mimetype": "text/x-python",
   "name": "python",
   "nbconvert_exporter": "python",
   "pygments_lexer": "ipython3",
   "version": "3.6.4"
  }
 },
 "nbformat": 4,
 "nbformat_minor": 2
}
