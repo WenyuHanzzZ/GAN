{
 "cells": [
  {
   "cell_type": "code",
   "execution_count": 319,
   "metadata": {},
   "outputs": [
    {
     "name": "stdout",
     "output_type": "stream",
     "text": [
      "Extracting MNIST_data/train-images-idx3-ubyte.gz\n",
      "Extracting MNIST_data/train-labels-idx1-ubyte.gz\n",
      "Extracting MNIST_data/t10k-images-idx3-ubyte.gz\n",
      "Extracting MNIST_data/t10k-labels-idx1-ubyte.gz\n"
     ]
    }
   ],
   "source": [
    "import tensorflow as tf \n",
    "import numpy as np\n",
    "from tensorflow.examples.tutorials.mnist import input_data\n",
    "import matplotlib.pyplot as plt\n",
    "mnist = input_data.read_data_sets('MNIST_data')"
   ]
  },
  {
   "cell_type": "code",
   "execution_count": 304,
   "metadata": {},
   "outputs": [],
   "source": [
    "def generator(z, Output_dimension, n_units, reuse, alpha):\n",
    "    with tf.variable_scope('generator', reuse=reuse):\n",
    "        # creat a variable scope to save the variable under the 'generator' variable list  \n",
    "        H_layer1=tf.layers.dense(z, n_units, activation=None,name='G_dense_1')\n",
    "        # hidden layer: input is latent variable, number of units= 128\n",
    "        H_layer1=tf.maximum(H_layer1, alpha*H_layer1)\n",
    "        # this maximum combine with dense layer can realize the Leaky ReLU \n",
    "        # alpha is a parameter which is less than 1\n",
    "        logits=tf.layers.dense(H_layer1, Output_dimension, activation=None,name='G_dense_2')\n",
    "        # logits layer:Output dimension=724 \n",
    "        Out=tf.nn.tanh(logits)\n",
    "        # output is rescaled into between -1 to 1 \n",
    "        return Out, logits"
   ]
  },
  {
   "cell_type": "code",
   "execution_count": 305,
   "metadata": {},
   "outputs": [],
   "source": [
    "def discriminator(x, n_units, reuse, alpha):\n",
    "    with tf.variable_scope('discriminator',reuse=reuse):\n",
    "        # creat a variable scope to save the variable under the 'discriminator' variable list\n",
    "        H_layer1=tf.layers.dense(x,n_units,activation=None,name='D_dense_1')\n",
    "        # Hidden layer: input is the images to be discriminated, number of units=128\n",
    "        H_layer1=tf.maximum(H_layer1,alpha*H_layer1)\n",
    "        # smae as generator: creat the operation as Leaky ReLU\n",
    "        logits=tf.layers.dense(H_layer1,1,activation=None,name='D_dense_2')\n",
    "        # logits layer: output dimension is 1\n",
    "        Out=tf.nn.sigmoid(logits)\n",
    "        # output value: when it is close to 1, it will be treated as the real image, vice versa.\n",
    "        return Out, logits\n",
    "    "
   ]
  },
  {
   "cell_type": "code",
   "execution_count": 313,
   "metadata": {},
   "outputs": [],
   "source": [
    "tf.reset_default_graph()# reset the default graph \n",
    "z=tf.placeholder(tf.float32,(None,100),name='z')\n",
    "# creat placeholder for input latent variable z, dimension=[batch size, 100]\n",
    "real_image=tf.placeholder(tf.float32,(None,784),name='real_image')\n",
    "# creat placeholder for the real trainging data, dimension= [batch size, 724] "
   ]
  },
  {
   "cell_type": "code",
   "execution_count": 314,
   "metadata": {},
   "outputs": [],
   "source": [
    "# initial input parameter set here\n",
    "Output_dimension=784\n",
    "n_units=128\n",
    "alpha=0.01\n",
    "smooth=0.1\n",
    "learning_rate=0.002"
   ]
  },
  {
   "cell_type": "code",
   "execution_count": 315,
   "metadata": {},
   "outputs": [],
   "source": [
    "# creat generator network \n",
    "g_out,g_logits=generator(z,Output_dimension,n_units,False,alpha)\n",
    "# creat discriminator network\n",
    "d_out_real,d_logits_real=discriminator(real_image,n_units,False,alpha)\n",
    "d_out_fake,d_logits_fake=discriminator(g_out,n_units,True,alpha)"
   ]
  },
  {
   "cell_type": "code",
   "execution_count": 316,
   "metadata": {},
   "outputs": [],
   "source": [
    "# loss funtion goes here \n",
    "# firstly label the real image from the training data by 1 and fake image from the generetor by 0\n",
    "# In order toreduce overfitting, use the label smoothing method here: it prevents a network\n",
    "#from assigning full probability to each training example and maintains a reasonable ratio between\n",
    "# the logits of the incorrect classes. \n",
    "#And from the experiment result of this paper smooth=0.1 always perform well\n",
    "real_label=tf.ones_like(d_logits_real)*(1-smooth)\n",
    "fake_label=tf.zeros_like(d_logits_fake)\n",
    "# discriminator loss funtion \n",
    "d_loss_real=tf.nn.sigmoid_cross_entropy_with_logits(labels=real_label,logits=d_logits_real)\n",
    "d_loss_fake=tf.nn.sigmoid_cross_entropy_with_logits(labels=fake_label,logits=d_logits_fake)\n",
    "# here uing the sigmoid_cross_entropy, causing the label is between 0 to 1.\n",
    "# discriminator loss funtion is that training the discriminator to assign the right label to real\n",
    "# image 1 and to fake image 0 as precisely as possible\n",
    "d_loss=tf.reduce_mean(d_loss_real+d_loss_fake)# total loss is the summation of both two parts\n",
    "g_loss=tf.reduce_mean(\n",
    "    tf.nn.sigmoid_cross_entropy_with_logits(labels=tf.ones_like(d_logits_fake),\n",
    "                                                              logits=d_logits_fake))\n",
    "# generator loss funtion is that training the generator to generator fake images that are more like \n",
    "# real ones, that is the labels are close to 1."
   ]
  },
  {
   "cell_type": "code",
   "execution_count": 317,
   "metadata": {},
   "outputs": [],
   "source": [
    "# define the optimizer\n",
    "# In order to train the generator and discriminator seperately, seperate the variable of \n",
    "# discriminator and generator into two parts g_var and d_var\n",
    "var= tf.trainable_variables()\n",
    "g_vars = [var for var in var if var.name.startswith(\"generator\")]\n",
    "d_vars = [var for var in var if var.name.startswith(\"discriminator\")]\n",
    "\n",
    "# then define the discriminator here.\n",
    "# in order to compare different optimizer, use different optimizers here\n",
    "d_train_op_adam=tf.train.AdamOptimizer(\n",
    "    learning_rate=learning_rate).minimize(d_loss, var_list=d_vars)\n",
    "g_train_op_adam=tf.train.AdamOptimizer(\n",
    "    learning_rate=learning_rate).minimize(g_loss, var_list=g_vars)\n",
    "\n",
    "d_train_op_SGD=tf.train.GradientDescentOptimizer(\n",
    "    learning_rate=learning_rate).minimize(d_loss, var_list=d_vars)\n",
    "\n",
    "g_train_op_SGD=tf.train.GradientDescentOptimizer(\n",
    "    learning_rate=learning_rate).minimize(g_loss, var_list=g_vars)"
   ]
  },
  {
   "cell_type": "code",
   "execution_count": null,
   "metadata": {},
   "outputs": [],
   "source": []
  },
  {
   "cell_type": "code",
   "execution_count": 318,
   "metadata": {},
   "outputs": [
    {
     "name": "stdout",
     "output_type": "stream",
     "text": [
      "Epoch 1/100... Discriminator Loss: 0.3613... Generator Loss: 4.1232\n",
      "Epoch 2/100... Discriminator Loss: 0.4546... Generator Loss: 2.3163\n",
      "Epoch 3/100... Discriminator Loss: 0.3702... Generator Loss: 4.0906\n",
      "Epoch 4/100... Discriminator Loss: 0.4114... Generator Loss: 3.6087\n",
      "Epoch 5/100... Discriminator Loss: 1.1634... Generator Loss: 2.6437\n",
      "Epoch 6/100... Discriminator Loss: 1.2511... Generator Loss: 3.4316\n",
      "Epoch 7/100... Discriminator Loss: 1.2599... Generator Loss: 3.7388\n",
      "Epoch 8/100... Discriminator Loss: 1.3425... Generator Loss: 2.4688\n",
      "Epoch 9/100... Discriminator Loss: 1.3261... Generator Loss: 2.4488\n",
      "Epoch 10/100... Discriminator Loss: 1.1965... Generator Loss: 1.9865\n",
      "Epoch 11/100... Discriminator Loss: 1.0330... Generator Loss: 2.1743\n",
      "Epoch 12/100... Discriminator Loss: 1.1635... Generator Loss: 1.4424\n",
      "Epoch 13/100... Discriminator Loss: 1.5539... Generator Loss: 2.0831\n",
      "Epoch 14/100... Discriminator Loss: 1.3351... Generator Loss: 1.5544\n",
      "Epoch 15/100... Discriminator Loss: 1.2762... Generator Loss: 1.7799\n",
      "Epoch 16/100... Discriminator Loss: 1.7305... Generator Loss: 1.0506\n",
      "Epoch 17/100... Discriminator Loss: 1.3235... Generator Loss: 2.5383\n",
      "Epoch 18/100... Discriminator Loss: 0.8133... Generator Loss: 2.2729\n",
      "Epoch 19/100... Discriminator Loss: 0.7297... Generator Loss: 3.5037\n",
      "Epoch 20/100... Discriminator Loss: 1.1443... Generator Loss: 1.8202\n",
      "Epoch 21/100... Discriminator Loss: 0.9898... Generator Loss: 1.5186\n",
      "Epoch 22/100... Discriminator Loss: 1.3564... Generator Loss: 1.1149\n",
      "Epoch 23/100... Discriminator Loss: 1.4104... Generator Loss: 1.4359\n",
      "Epoch 24/100... Discriminator Loss: 0.9166... Generator Loss: 1.8508\n",
      "Epoch 25/100... Discriminator Loss: 0.9552... Generator Loss: 2.1351\n",
      "Epoch 26/100... Discriminator Loss: 0.9573... Generator Loss: 2.0843\n",
      "Epoch 27/100... Discriminator Loss: 0.8748... Generator Loss: 2.4147\n",
      "Epoch 28/100... Discriminator Loss: 1.0771... Generator Loss: 3.2197\n",
      "Epoch 29/100... Discriminator Loss: 1.0447... Generator Loss: 1.9470\n",
      "Epoch 30/100... Discriminator Loss: 0.9223... Generator Loss: 3.0109\n",
      "Epoch 31/100... Discriminator Loss: 1.2049... Generator Loss: 1.8589\n",
      "Epoch 32/100... Discriminator Loss: 1.0621... Generator Loss: 1.6735\n",
      "Epoch 33/100... Discriminator Loss: 1.2115... Generator Loss: 2.9608\n",
      "Epoch 34/100... Discriminator Loss: 0.9025... Generator Loss: 1.9170\n",
      "Epoch 35/100... Discriminator Loss: 1.1515... Generator Loss: 1.4463\n",
      "Epoch 36/100... Discriminator Loss: 0.9099... Generator Loss: 2.0445\n",
      "Epoch 37/100... Discriminator Loss: 0.7894... Generator Loss: 2.0746\n",
      "Epoch 38/100... Discriminator Loss: 0.9531... Generator Loss: 2.2375\n",
      "Epoch 39/100... Discriminator Loss: 0.9392... Generator Loss: 2.4569\n",
      "Epoch 40/100... Discriminator Loss: 1.2916... Generator Loss: 1.9497\n",
      "Epoch 41/100... Discriminator Loss: 0.7025... Generator Loss: 2.2298\n",
      "Epoch 42/100... Discriminator Loss: 0.8957... Generator Loss: 2.3053\n",
      "Epoch 43/100... Discriminator Loss: 0.8561... Generator Loss: 2.2371\n",
      "Epoch 44/100... Discriminator Loss: 0.9110... Generator Loss: 2.0315\n",
      "Epoch 45/100... Discriminator Loss: 0.9189... Generator Loss: 1.9752\n",
      "Epoch 46/100... Discriminator Loss: 0.6855... Generator Loss: 2.4749\n",
      "Epoch 47/100... Discriminator Loss: 0.8347... Generator Loss: 2.1228\n",
      "Epoch 48/100... Discriminator Loss: 0.7337... Generator Loss: 2.7012\n",
      "Epoch 49/100... Discriminator Loss: 0.9426... Generator Loss: 2.0897\n",
      "Epoch 50/100... Discriminator Loss: 0.9424... Generator Loss: 2.5471\n",
      "Epoch 51/100... Discriminator Loss: 0.8961... Generator Loss: 2.3078\n",
      "Epoch 52/100... Discriminator Loss: 0.9166... Generator Loss: 1.7151\n",
      "Epoch 53/100... Discriminator Loss: 0.9176... Generator Loss: 2.2105\n",
      "Epoch 54/100... Discriminator Loss: 0.9127... Generator Loss: 2.1249\n",
      "Epoch 55/100... Discriminator Loss: 0.9214... Generator Loss: 2.4057\n",
      "Epoch 56/100... Discriminator Loss: 1.0842... Generator Loss: 1.5422\n",
      "Epoch 57/100... Discriminator Loss: 0.9350... Generator Loss: 2.0896\n",
      "Epoch 58/100... Discriminator Loss: 0.9022... Generator Loss: 1.9957\n",
      "Epoch 59/100... Discriminator Loss: 0.7213... Generator Loss: 2.1780\n",
      "Epoch 60/100... Discriminator Loss: 0.8098... Generator Loss: 2.2762\n",
      "Epoch 61/100... Discriminator Loss: 0.9175... Generator Loss: 2.1939\n",
      "Epoch 62/100... Discriminator Loss: 0.9012... Generator Loss: 1.8758\n",
      "Epoch 63/100... Discriminator Loss: 0.9427... Generator Loss: 2.5076\n",
      "Epoch 64/100... Discriminator Loss: 0.7554... Generator Loss: 2.6498\n",
      "Epoch 65/100... Discriminator Loss: 0.9471... Generator Loss: 2.1746\n",
      "Epoch 66/100... Discriminator Loss: 0.8725... Generator Loss: 1.8647\n",
      "Epoch 67/100... Discriminator Loss: 1.0016... Generator Loss: 1.7246\n",
      "Epoch 68/100... Discriminator Loss: 0.8800... Generator Loss: 1.7239\n",
      "Epoch 69/100... Discriminator Loss: 0.8770... Generator Loss: 2.0625\n",
      "Epoch 70/100... Discriminator Loss: 1.1708... Generator Loss: 2.3526\n",
      "Epoch 71/100... Discriminator Loss: 0.8382... Generator Loss: 2.0715\n",
      "Epoch 72/100... Discriminator Loss: 1.1002... Generator Loss: 2.1298\n",
      "Epoch 73/100... Discriminator Loss: 0.7905... Generator Loss: 2.4570\n",
      "Epoch 74/100... Discriminator Loss: 0.9388... Generator Loss: 2.0735\n",
      "Epoch 75/100... Discriminator Loss: 1.0039... Generator Loss: 2.1104\n",
      "Epoch 76/100... Discriminator Loss: 1.0563... Generator Loss: 1.9785\n",
      "Epoch 77/100... Discriminator Loss: 1.0217... Generator Loss: 1.7741\n",
      "Epoch 78/100... Discriminator Loss: 0.9784... Generator Loss: 1.5807\n",
      "Epoch 79/100... Discriminator Loss: 0.9568... Generator Loss: 1.9378\n",
      "Epoch 80/100... Discriminator Loss: 0.8812... Generator Loss: 1.8905\n",
      "Epoch 81/100... Discriminator Loss: 1.0760... Generator Loss: 1.9481\n",
      "Epoch 82/100... Discriminator Loss: 0.8419... Generator Loss: 2.1748\n",
      "Epoch 83/100... Discriminator Loss: 1.0749... Generator Loss: 1.4557\n",
      "Epoch 84/100... Discriminator Loss: 1.1684... Generator Loss: 1.7444\n",
      "Epoch 85/100... Discriminator Loss: 1.1638... Generator Loss: 1.4447\n",
      "Epoch 86/100... Discriminator Loss: 0.9774... Generator Loss: 1.6130\n",
      "Epoch 87/100... Discriminator Loss: 1.0011... Generator Loss: 1.7545\n",
      "Epoch 88/100... Discriminator Loss: 1.0811... Generator Loss: 1.7916\n",
      "Epoch 89/100... Discriminator Loss: 1.1299... Generator Loss: 1.6679\n",
      "Epoch 90/100... Discriminator Loss: 0.8841... Generator Loss: 1.8354\n",
      "Epoch 91/100... Discriminator Loss: 1.0918... Generator Loss: 1.8364\n",
      "Epoch 92/100... Discriminator Loss: 0.9286... Generator Loss: 2.1981\n",
      "Epoch 93/100... Discriminator Loss: 1.2029... Generator Loss: 1.6020\n",
      "Epoch 94/100... Discriminator Loss: 1.0764... Generator Loss: 1.3918\n",
      "Epoch 95/100... Discriminator Loss: 1.0040... Generator Loss: 1.8965\n",
      "Epoch 96/100... Discriminator Loss: 1.0829... Generator Loss: 2.1884\n",
      "Epoch 97/100... Discriminator Loss: 0.9894... Generator Loss: 1.6431\n",
      "Epoch 98/100... Discriminator Loss: 1.0379... Generator Loss: 1.8752\n",
      "Epoch 99/100... Discriminator Loss: 1.0891... Generator Loss: 1.5609\n",
      "Epoch 100/100... Discriminator Loss: 0.9653... Generator Loss: 2.3223\n"
     ]
    }
   ],
   "source": [
    "# training the model \n",
    "batch_size=100# batch size is 100\n",
    "epochs=100 # number of epochs =100\n",
    "sample=[] # creat a empty list space to save the samples from the generator in each epoch \n",
    "loss=[]# creat a empty list space to save the loss function value during the optimization history\n",
    "saver= tf.train.Saver(var_list=g_vars)\n",
    "with tf.Session() as sess:\n",
    "    sess.run(tf.global_variables_initializer())\n",
    "    for i in range(epochs):\n",
    "        for j in range(mnist.train.num_examples//batch_size):\n",
    "            batch = mnist.train.next_batch(batch_size)\n",
    "            real_batch=batch[0].reshape((batch_size,784))\n",
    "            #here rescale the input real image from 0-1 to -1 to 1 \n",
    "            real_batch=real_batch*2-1\n",
    "            latent = np.random.uniform(-1, 1, size=(batch_size, 100))\n",
    "            \n",
    "            # run optimizer \n",
    "            _ = sess.run(d_train_op_adam, feed_dict={real_image: real_batch, z: latent})\n",
    "            _ = sess.run(g_train_op_adam, feed_dict={z: latent})\n",
    "        # after each epoch, save the loss funtion value in to the loss[]\n",
    "        d_save_loss=sess.run(d_loss,feed_dict={real_image: real_batch, z: latent})\n",
    "        g_save_loss=sess.run(g_loss,feed_dict={z: latent})\n",
    "        print(\"Epoch {0}/{1}...\".format(i+1, epochs),\n",
    "              \"Discriminator Loss: {:.4f}...\".format(d_save_loss),\n",
    "              \"Generator Loss: {:.4f}\".format(g_save_loss))    \n",
    "        loss.append((d_save_loss,g_save_loss))\n",
    "        save_path = saver.save(sess, \"/Applications/GAN/generator\")\n",
    "            \n",
    "            \n",
    "            \n",
    "            \n"
   ]
  },
  {
   "cell_type": "code",
   "execution_count": null,
   "metadata": {},
   "outputs": [],
   "source": []
  },
  {
   "cell_type": "code",
   "execution_count": 324,
   "metadata": {},
   "outputs": [
    {
     "data": {
      "text/plain": [
       "<matplotlib.legend.Legend at 0x1c77267978>"
      ]
     },
     "execution_count": 324,
     "metadata": {},
     "output_type": "execute_result"
    },
    {
     "data": {
      "image/png": "[encoded data removed]",
      "text/plain": [
       "<matplotlib.figure.Figure at 0x1c770fffd0>"
      ]
     },
     "metadata": {},
     "output_type": "display_data"
    }
   ],
   "source": [
    "fig, ax = plt.subplots()\n",
    "loss = np.array(loss)\n",
    "plt.plot(loss.T[0], label='Discriminator')\n",
    "plt.plot(loss.T[1], label='Generator')\n",
    "plt.title(\"Training Losses\")\n",
    "plt.legend()"
   ]
  },
  {
   "cell_type": "code",
   "execution_count": null,
   "metadata": {},
   "outputs": [],
   "source": []
  }
 ],
 "metadata": {
  "kernelspec": {
   "display_name": "Python 3",
   "language": "python",
   "name": "python3"
  },
  "language_info": {
   "codemirror_mode": {
    "name": "ipython",
    "version": 3
   },
   "file_extension": ".py",
   "mimetype": "text/x-python",
   "name": "python",
   "nbconvert_exporter": "python",
   "pygments_lexer": "ipython3",
   "version": "3.6.4"
  }
 },
 "nbformat": 4,
 "nbformat_minor": 2
}
