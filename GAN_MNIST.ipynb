{
 "cells": [
  {
   "cell_type": "code",
   "execution_count": 11,
   "metadata": {},
   "outputs": [],
   "source": [
    "import tensorflow as tf \n",
    "import numpy as np"
   ]
  },
  {
   "cell_type": "code",
   "execution_count": 101,
   "metadata": {},
   "outputs": [],
   "source": [
    "def generator(z, Output_dimension, n_units, reuse, alpha):\n",
    "    with tf.variable_scope('generator', reuse=reuse):\n",
    "        H_layer1=tf.layers.dense(z, n_units, activation=None,name='G_dense_1')\n",
    "        H_layer1=tf.maximum(H_layer1, alpha*H_layer1)\n",
    "        logits=tf.layers.dense(H_layer1, Output_dimension, activation=None,name='G_dense_2')\n",
    "        Out=tf.nn.tanh(logits)\n",
    "        return Out, logits"
   ]
  },
  {
   "cell_type": "code",
   "execution_count": 104,
   "metadata": {},
   "outputs": [
    {
     "ename": "SyntaxError",
     "evalue": "unexpected EOF while parsing (<ipython-input-104-600d0666813d>, line 1)",
     "output_type": "error",
     "traceback": [
      "\u001b[0;36m  File \u001b[0;32m\"<ipython-input-104-600d0666813d>\"\u001b[0;36m, line \u001b[0;32m1\u001b[0m\n\u001b[0;31m    def discriminator(x, n_units, reuse, alpha):\u001b[0m\n\u001b[0m                                                ^\u001b[0m\n\u001b[0;31mSyntaxError\u001b[0m\u001b[0;31m:\u001b[0m unexpected EOF while parsing\n"
     ]
    }
   ],
   "source": [
    "#def discriminator(x, n_units, reuse, alpha):\n",
    "    "
   ]
  },
  {
   "cell_type": "code",
   "execution_count": null,
   "metadata": {},
   "outputs": [],
   "source": []
  },
  {
   "cell_type": "code",
   "execution_count": null,
   "metadata": {},
   "outputs": [],
   "source": []
  },
  {
   "cell_type": "code",
   "execution_count": null,
   "metadata": {},
   "outputs": [],
   "source": []
  },
  {
   "cell_type": "code",
   "execution_count": 92,
   "metadata": {},
   "outputs": [],
   "source": [
    "Output_dimension=724\n",
    "n_units=128\n",
    "reuse=False\n",
    "alpha=0.01\n",
    "tf.reset_default_graph() \n",
    "z=tf.placeholder(tf.float32, (None, 100), name=\"z\")\n",
    "a=generator(z,Output_dimension,n_units,reuse,alpha)"
   ]
  },
  {
   "cell_type": "code",
   "execution_count": 93,
   "metadata": {},
   "outputs": [],
   "source": [
    "t_vars = tf.trainable_variables()"
   ]
  },
  {
   "cell_type": "code",
   "execution_count": 94,
   "metadata": {},
   "outputs": [
    {
     "data": {
      "text/plain": [
       "[<tf.Variable 'generator/G_dense_1/kernel:0' shape=(100, 128) dtype=float32_ref>,\n",
       " <tf.Variable 'generator/G_dense_1/bias:0' shape=(128,) dtype=float32_ref>,\n",
       " <tf.Variable 'generator/G_dense_2/kernel:0' shape=(128, 724) dtype=float32_ref>,\n",
       " <tf.Variable 'generator/G_dense_2/bias:0' shape=(724,) dtype=float32_ref>]"
      ]
     },
     "execution_count": 94,
     "metadata": {},
     "output_type": "execute_result"
    }
   ],
   "source": [
    "t_vars"
   ]
  },
  {
   "cell_type": "code",
   "execution_count": null,
   "metadata": {},
   "outputs": [],
   "source": []
  },
  {
   "cell_type": "code",
   "execution_count": null,
   "metadata": {},
   "outputs": [],
   "source": []
  },
  {
   "cell_type": "code",
   "execution_count": 99,
   "metadata": {},
   "outputs": [],
   "source": [
    "with tf.Session() as sess:\n",
    "    sess.run(tf.initialize_all_variables())\n",
    "    Z= np.random.uniform(-1, 1, size=(16, 100))\n",
    "    out,logits=sess.run(a,feed_dict={z:Z})\n",
    "    bias=sess.run('generator/G_dense_1/kernel:0')"
   ]
  },
  {
   "cell_type": "code",
   "execution_count": 100,
   "metadata": {},
   "outputs": [
    {
     "data": {
      "text/plain": [
       "array([[-0.0663031 , -0.03332643,  0.07886194, ..., -0.00623073,\n",
       "        -0.01737477,  0.03167973],\n",
       "       [ 0.07791319,  0.13030823, -0.07311722, ...,  0.00733536,\n",
       "         0.08427407, -0.01030193],\n",
       "       [-0.07275196,  0.01118508,  0.01488778, ..., -0.02800812,\n",
       "         0.03693193, -0.04016035],\n",
       "       ...,\n",
       "       [-0.00535052,  0.07286268, -0.10645548, ...,  0.13943537,\n",
       "         0.07286045,  0.11181818],\n",
       "       [-0.05919825,  0.13999136, -0.14724305, ...,  0.08042555,\n",
       "         0.15920494, -0.153411  ],\n",
       "       [-0.00241961,  0.12215142, -0.0614167 , ..., -0.11761044,\n",
       "        -0.04104921, -0.12170555]], dtype=float32)"
      ]
     },
     "execution_count": 100,
     "metadata": {},
     "output_type": "execute_result"
    }
   ],
   "source": []
  },
  {
   "cell_type": "code",
   "execution_count": null,
   "metadata": {},
   "outputs": [],
   "source": []
  }
 ],
 "metadata": {
  "kernelspec": {
   "display_name": "Python 3",
   "language": "python",
   "name": "python3"
  },
  "language_info": {
   "codemirror_mode": {
    "name": "ipython",
    "version": 3
   },
   "file_extension": ".py",
   "mimetype": "text/x-python",
   "name": "python",
   "nbconvert_exporter": "python",
   "pygments_lexer": "ipython3",
   "version": "3.6.4"
  }
 },
 "nbformat": 4,
 "nbformat_minor": 2
}
